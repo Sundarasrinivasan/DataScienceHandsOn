{
 "cells": [
  {
   "cell_type": "markdown",
   "metadata": {},
   "source": [
    "# Problem Statement\n",
    "# Analysing German credit card dataset to classify the customer\n",
    "\n",
    "# Notes\n",
    "- DM stands for Deutsche Mark, the unit of currency in Germany.\n",
    "- Owns_telephone: German phone rates are very high, so fewer people own telephones.\n",
    "- Foreign_worker: There are millions of foreign worker working in Germany\n",
    "- 20 attributes used in judging a loan applicant. The goal is the classify the applicant into one of two categories, good or bad, which is the last attribute\n",
    "- This dataset is typical of data used in data mining: we have 1000 records."
   ]
  },
  {
   "cell_type": "code",
   "execution_count": 314,
   "metadata": {},
   "outputs": [],
   "source": [
    "# Loading all the libraries\n",
    "import numpy as np\n",
    "import pandas as pd\n",
    "import matplotlib.pyplot as plt\n",
    "import seaborn as sns\n",
    "from IPython.display import display, HTML\n",
    "from IPython.display import display_html"
   ]
  },
  {
   "cell_type": "code",
   "execution_count": 217,
   "metadata": {},
   "outputs": [
    {
     "data": {
      "text/html": [
       "<div>\n",
       "<style scoped>\n",
       "    .dataframe tbody tr th:only-of-type {\n",
       "        vertical-align: middle;\n",
       "    }\n",
       "\n",
       "    .dataframe tbody tr th {\n",
       "        vertical-align: top;\n",
       "    }\n",
       "\n",
       "    .dataframe thead th {\n",
       "        text-align: right;\n",
       "    }\n",
       "</style>\n",
       "<table border=\"1\" class=\"dataframe\">\n",
       "  <thead>\n",
       "    <tr style=\"text-align: right;\">\n",
       "      <th></th>\n",
       "      <th>checking_account_status</th>\n",
       "      <th>duration</th>\n",
       "      <th>credit_history</th>\n",
       "      <th>purpose</th>\n",
       "      <th>credit_amount</th>\n",
       "      <th>savings</th>\n",
       "      <th>present_employment</th>\n",
       "      <th>installment_rate</th>\n",
       "      <th>personal</th>\n",
       "      <th>other_debtors</th>\n",
       "      <th>...</th>\n",
       "      <th>property</th>\n",
       "      <th>age</th>\n",
       "      <th>other_installment_plans</th>\n",
       "      <th>housing</th>\n",
       "      <th>existing_credits</th>\n",
       "      <th>job</th>\n",
       "      <th>dependents</th>\n",
       "      <th>telephone</th>\n",
       "      <th>foreign_worker</th>\n",
       "      <th>customer_type</th>\n",
       "    </tr>\n",
       "  </thead>\n",
       "  <tbody>\n",
       "    <tr>\n",
       "      <th>0</th>\n",
       "      <td>A11</td>\n",
       "      <td>6</td>\n",
       "      <td>A34</td>\n",
       "      <td>A43</td>\n",
       "      <td>1169.0</td>\n",
       "      <td>A65</td>\n",
       "      <td>A75</td>\n",
       "      <td>4.0</td>\n",
       "      <td>A93</td>\n",
       "      <td>A101</td>\n",
       "      <td>...</td>\n",
       "      <td>A121</td>\n",
       "      <td>67.0</td>\n",
       "      <td>A143</td>\n",
       "      <td>A152</td>\n",
       "      <td>2.0</td>\n",
       "      <td>A173</td>\n",
       "      <td>1</td>\n",
       "      <td>A192</td>\n",
       "      <td>A201</td>\n",
       "      <td>1</td>\n",
       "    </tr>\n",
       "    <tr>\n",
       "      <th>1</th>\n",
       "      <td>A12</td>\n",
       "      <td>48</td>\n",
       "      <td>A32</td>\n",
       "      <td>A43</td>\n",
       "      <td>5951.0</td>\n",
       "      <td>A61</td>\n",
       "      <td>A73</td>\n",
       "      <td>2.0</td>\n",
       "      <td>A92</td>\n",
       "      <td>A101</td>\n",
       "      <td>...</td>\n",
       "      <td>A121</td>\n",
       "      <td>22.0</td>\n",
       "      <td>A143</td>\n",
       "      <td>A152</td>\n",
       "      <td>1.0</td>\n",
       "      <td>A173</td>\n",
       "      <td>1</td>\n",
       "      <td>A191</td>\n",
       "      <td>A201</td>\n",
       "      <td>2</td>\n",
       "    </tr>\n",
       "    <tr>\n",
       "      <th>2</th>\n",
       "      <td>A14</td>\n",
       "      <td>12</td>\n",
       "      <td>A34</td>\n",
       "      <td>A46</td>\n",
       "      <td>2096.0</td>\n",
       "      <td>A61</td>\n",
       "      <td>A74</td>\n",
       "      <td>2.0</td>\n",
       "      <td>A93</td>\n",
       "      <td>A101</td>\n",
       "      <td>...</td>\n",
       "      <td>A121</td>\n",
       "      <td>49.0</td>\n",
       "      <td>A143</td>\n",
       "      <td>A152</td>\n",
       "      <td>1.0</td>\n",
       "      <td>A172</td>\n",
       "      <td>2</td>\n",
       "      <td>A191</td>\n",
       "      <td>A201</td>\n",
       "      <td>1</td>\n",
       "    </tr>\n",
       "    <tr>\n",
       "      <th>3</th>\n",
       "      <td>A11</td>\n",
       "      <td>42</td>\n",
       "      <td>A32</td>\n",
       "      <td>A42</td>\n",
       "      <td>7882.0</td>\n",
       "      <td>A61</td>\n",
       "      <td>A74</td>\n",
       "      <td>2.0</td>\n",
       "      <td>A93</td>\n",
       "      <td>A103</td>\n",
       "      <td>...</td>\n",
       "      <td>A122</td>\n",
       "      <td>45.0</td>\n",
       "      <td>A143</td>\n",
       "      <td>A153</td>\n",
       "      <td>1.0</td>\n",
       "      <td>A173</td>\n",
       "      <td>2</td>\n",
       "      <td>A191</td>\n",
       "      <td>A201</td>\n",
       "      <td>1</td>\n",
       "    </tr>\n",
       "    <tr>\n",
       "      <th>4</th>\n",
       "      <td>A11</td>\n",
       "      <td>24</td>\n",
       "      <td>A33</td>\n",
       "      <td>A40</td>\n",
       "      <td>4870.0</td>\n",
       "      <td>A61</td>\n",
       "      <td>A73</td>\n",
       "      <td>3.0</td>\n",
       "      <td>A93</td>\n",
       "      <td>A101</td>\n",
       "      <td>...</td>\n",
       "      <td>A124</td>\n",
       "      <td>53.0</td>\n",
       "      <td>A143</td>\n",
       "      <td>A153</td>\n",
       "      <td>2.0</td>\n",
       "      <td>A173</td>\n",
       "      <td>2</td>\n",
       "      <td>A191</td>\n",
       "      <td>A201</td>\n",
       "      <td>2</td>\n",
       "    </tr>\n",
       "    <tr>\n",
       "      <th>5</th>\n",
       "      <td>A14</td>\n",
       "      <td>36</td>\n",
       "      <td>A32</td>\n",
       "      <td>A46</td>\n",
       "      <td>9055.0</td>\n",
       "      <td>A65</td>\n",
       "      <td>A73</td>\n",
       "      <td>2.0</td>\n",
       "      <td>A93</td>\n",
       "      <td>A101</td>\n",
       "      <td>...</td>\n",
       "      <td>A124</td>\n",
       "      <td>35.0</td>\n",
       "      <td>A143</td>\n",
       "      <td>A153</td>\n",
       "      <td>1.0</td>\n",
       "      <td>A172</td>\n",
       "      <td>2</td>\n",
       "      <td>A192</td>\n",
       "      <td>A201</td>\n",
       "      <td>1</td>\n",
       "    </tr>\n",
       "    <tr>\n",
       "      <th>6</th>\n",
       "      <td>A14</td>\n",
       "      <td>24</td>\n",
       "      <td>A32</td>\n",
       "      <td>A42</td>\n",
       "      <td>2835.0</td>\n",
       "      <td>A63</td>\n",
       "      <td>A75</td>\n",
       "      <td>3.0</td>\n",
       "      <td>A93</td>\n",
       "      <td>A101</td>\n",
       "      <td>...</td>\n",
       "      <td>A122</td>\n",
       "      <td>53.0</td>\n",
       "      <td>A143</td>\n",
       "      <td>A152</td>\n",
       "      <td>1.0</td>\n",
       "      <td>A173</td>\n",
       "      <td>1</td>\n",
       "      <td>A191</td>\n",
       "      <td>A201</td>\n",
       "      <td>1</td>\n",
       "    </tr>\n",
       "    <tr>\n",
       "      <th>7</th>\n",
       "      <td>A12</td>\n",
       "      <td>36</td>\n",
       "      <td>A32</td>\n",
       "      <td>A41</td>\n",
       "      <td>6948.0</td>\n",
       "      <td>A61</td>\n",
       "      <td>A73</td>\n",
       "      <td>2.0</td>\n",
       "      <td>A93</td>\n",
       "      <td>A101</td>\n",
       "      <td>...</td>\n",
       "      <td>A123</td>\n",
       "      <td>35.0</td>\n",
       "      <td>A143</td>\n",
       "      <td>A151</td>\n",
       "      <td>1.0</td>\n",
       "      <td>A174</td>\n",
       "      <td>1</td>\n",
       "      <td>A192</td>\n",
       "      <td>A201</td>\n",
       "      <td>1</td>\n",
       "    </tr>\n",
       "    <tr>\n",
       "      <th>8</th>\n",
       "      <td>A14</td>\n",
       "      <td>12</td>\n",
       "      <td>A32</td>\n",
       "      <td>A43</td>\n",
       "      <td>3059.0</td>\n",
       "      <td>A64</td>\n",
       "      <td>A74</td>\n",
       "      <td>2.0</td>\n",
       "      <td>A91</td>\n",
       "      <td>A101</td>\n",
       "      <td>...</td>\n",
       "      <td>A121</td>\n",
       "      <td>61.0</td>\n",
       "      <td>A143</td>\n",
       "      <td>A152</td>\n",
       "      <td>1.0</td>\n",
       "      <td>A172</td>\n",
       "      <td>1</td>\n",
       "      <td>A191</td>\n",
       "      <td>A201</td>\n",
       "      <td>1</td>\n",
       "    </tr>\n",
       "    <tr>\n",
       "      <th>9</th>\n",
       "      <td>A12</td>\n",
       "      <td>30</td>\n",
       "      <td>A34</td>\n",
       "      <td>A40</td>\n",
       "      <td>5234.0</td>\n",
       "      <td>A61</td>\n",
       "      <td>A71</td>\n",
       "      <td>4.0</td>\n",
       "      <td>A94</td>\n",
       "      <td>A101</td>\n",
       "      <td>...</td>\n",
       "      <td>A123</td>\n",
       "      <td>28.0</td>\n",
       "      <td>A143</td>\n",
       "      <td>A152</td>\n",
       "      <td>2.0</td>\n",
       "      <td>A174</td>\n",
       "      <td>1</td>\n",
       "      <td>A191</td>\n",
       "      <td>A201</td>\n",
       "      <td>2</td>\n",
       "    </tr>\n",
       "  </tbody>\n",
       "</table>\n",
       "<p>10 rows × 21 columns</p>\n",
       "</div>"
      ],
      "text/plain": [
       "  checking_account_status  duration credit_history purpose  credit_amount  \\\n",
       "0                     A11         6            A34     A43         1169.0   \n",
       "1                     A12        48            A32     A43         5951.0   \n",
       "2                     A14        12            A34     A46         2096.0   \n",
       "3                     A11        42            A32     A42         7882.0   \n",
       "4                     A11        24            A33     A40         4870.0   \n",
       "5                     A14        36            A32     A46         9055.0   \n",
       "6                     A14        24            A32     A42         2835.0   \n",
       "7                     A12        36            A32     A41         6948.0   \n",
       "8                     A14        12            A32     A43         3059.0   \n",
       "9                     A12        30            A34     A40         5234.0   \n",
       "\n",
       "  savings present_employment  installment_rate personal other_debtors  ...  \\\n",
       "0     A65                A75               4.0      A93          A101  ...   \n",
       "1     A61                A73               2.0      A92          A101  ...   \n",
       "2     A61                A74               2.0      A93          A101  ...   \n",
       "3     A61                A74               2.0      A93          A103  ...   \n",
       "4     A61                A73               3.0      A93          A101  ...   \n",
       "5     A65                A73               2.0      A93          A101  ...   \n",
       "6     A63                A75               3.0      A93          A101  ...   \n",
       "7     A61                A73               2.0      A93          A101  ...   \n",
       "8     A64                A74               2.0      A91          A101  ...   \n",
       "9     A61                A71               4.0      A94          A101  ...   \n",
       "\n",
       "   property   age  other_installment_plans housing existing_credits   job  \\\n",
       "0      A121  67.0                     A143    A152              2.0  A173   \n",
       "1      A121  22.0                     A143    A152              1.0  A173   \n",
       "2      A121  49.0                     A143    A152              1.0  A172   \n",
       "3      A122  45.0                     A143    A153              1.0  A173   \n",
       "4      A124  53.0                     A143    A153              2.0  A173   \n",
       "5      A124  35.0                     A143    A153              1.0  A172   \n",
       "6      A122  53.0                     A143    A152              1.0  A173   \n",
       "7      A123  35.0                     A143    A151              1.0  A174   \n",
       "8      A121  61.0                     A143    A152              1.0  A172   \n",
       "9      A123  28.0                     A143    A152              2.0  A174   \n",
       "\n",
       "  dependents  telephone foreign_worker customer_type  \n",
       "0          1       A192           A201             1  \n",
       "1          1       A191           A201             2  \n",
       "2          2       A191           A201             1  \n",
       "3          2       A191           A201             1  \n",
       "4          2       A191           A201             2  \n",
       "5          2       A192           A201             1  \n",
       "6          1       A191           A201             1  \n",
       "7          1       A192           A201             1  \n",
       "8          1       A191           A201             1  \n",
       "9          1       A191           A201             2  \n",
       "\n",
       "[10 rows x 21 columns]"
      ]
     },
     "execution_count": 217,
     "metadata": {},
     "output_type": "execute_result"
    }
   ],
   "source": [
    "# importing the dataset\n",
    "DF = pd.read_csv('german_credit_data_dataset.csv')\n",
    "DF.head(10)\n",
    "# Head function will give the first 5 rows with all the column values"
   ]
  },
  {
   "cell_type": "code",
   "execution_count": 7,
   "metadata": {},
   "outputs": [
    {
     "data": {
      "text/plain": [
       "(1000, 21)"
      ]
     },
     "execution_count": 7,
     "metadata": {},
     "output_type": "execute_result"
    }
   ],
   "source": [
    "DF.shape"
   ]
  },
  {
   "cell_type": "markdown",
   "metadata": {},
   "source": [
    "- Data set contains 1000 rows and 21 columns"
   ]
  },
  {
   "cell_type": "code",
   "execution_count": 180,
   "metadata": {},
   "outputs": [
    {
     "name": "stdout",
     "output_type": "stream",
     "text": [
      "<class 'pandas.core.frame.DataFrame'>\n",
      "RangeIndex: 1000 entries, 0 to 999\n",
      "Data columns (total 21 columns):\n",
      " #   Column                   Non-Null Count  Dtype  \n",
      "---  ------                   --------------  -----  \n",
      " 0   checking_account_status  1000 non-null   object \n",
      " 1   duration                 1000 non-null   int64  \n",
      " 2   credit_history           1000 non-null   object \n",
      " 3   purpose                  1000 non-null   object \n",
      " 4   credit_amount            1000 non-null   float64\n",
      " 5   savings                  1000 non-null   object \n",
      " 6   present_employment       1000 non-null   object \n",
      " 7   installment_rate         1000 non-null   float64\n",
      " 8   personal                 1000 non-null   object \n",
      " 9   other_debtors            1000 non-null   object \n",
      " 10  present_residence        1000 non-null   float64\n",
      " 11  property                 1000 non-null   object \n",
      " 12  age                      1000 non-null   float64\n",
      " 13  other_installment_plans  1000 non-null   object \n",
      " 14  housing                  1000 non-null   object \n",
      " 15  existing_credits         1000 non-null   float64\n",
      " 16  job                      1000 non-null   object \n",
      " 17  dependents               1000 non-null   int64  \n",
      " 18  telephone                1000 non-null   object \n",
      " 19  foreign_worker           1000 non-null   object \n",
      " 20  customer_type            1000 non-null   int64  \n",
      "dtypes: float64(5), int64(3), object(13)\n",
      "memory usage: 164.2+ KB\n"
     ]
    }
   ],
   "source": [
    "DF.info()"
   ]
  },
  {
   "cell_type": "markdown",
   "metadata": {},
   "source": [
    "- We dont see any null values\n",
    "- 3 data types (Object, Float and Integers) are present\n",
    "- Categorical variables : 13   \n",
    "- Numerical variables (Float and  Integer) :8"
   ]
  },
  {
   "cell_type": "markdown",
   "metadata": {},
   "source": [
    "Target variable:\n",
    "- customer_type - Integer\n",
    "\n",
    "Independent Categorical Variables\n",
    "- checking_account_status  \n",
    "- credit_history\n",
    "- purpose\n",
    "- savings\n",
    "- present_employment\n",
    "- personal\n",
    "- other_debtors\n",
    "- property\n",
    "- other_installment_plans\n",
    "- housing\n",
    "- job\n",
    "- telephone\n",
    "- foreign_worker\n",
    "\n",
    "Independent Numerical Variables\n",
    "- duration\n",
    "- credit_amount\n",
    "- installment_rate\n",
    "- present_residence\n",
    "- age\n",
    "- existing_credits\n",
    "- dependents"
   ]
  },
  {
   "cell_type": "code",
   "execution_count": null,
   "metadata": {},
   "outputs": [],
   "source": [
    "# Missing value %\n",
    "# Alternate way to find the missing value % column wise\n",
    "# Here we dont have missing values\n",
    "# DF.isna().mean().round(4)*100"
   ]
  },
  {
   "cell_type": "code",
   "execution_count": 41,
   "metadata": {},
   "outputs": [
    {
     "data": {
      "text/html": [
       "<div>\n",
       "<style scoped>\n",
       "    .dataframe tbody tr th:only-of-type {\n",
       "        vertical-align: middle;\n",
       "    }\n",
       "\n",
       "    .dataframe tbody tr th {\n",
       "        vertical-align: top;\n",
       "    }\n",
       "\n",
       "    .dataframe thead th {\n",
       "        text-align: right;\n",
       "    }\n",
       "</style>\n",
       "<table border=\"1\" class=\"dataframe\">\n",
       "  <thead>\n",
       "    <tr style=\"text-align: right;\">\n",
       "      <th></th>\n",
       "      <th>count</th>\n",
       "      <th>mean</th>\n",
       "      <th>std</th>\n",
       "      <th>min</th>\n",
       "      <th>25%</th>\n",
       "      <th>50%</th>\n",
       "      <th>75%</th>\n",
       "      <th>max</th>\n",
       "    </tr>\n",
       "  </thead>\n",
       "  <tbody>\n",
       "    <tr>\n",
       "      <th>duration</th>\n",
       "      <td>1000.0</td>\n",
       "      <td>20.903</td>\n",
       "      <td>12.058814</td>\n",
       "      <td>4.0</td>\n",
       "      <td>12.0</td>\n",
       "      <td>18.0</td>\n",
       "      <td>24.00</td>\n",
       "      <td>72.0</td>\n",
       "    </tr>\n",
       "    <tr>\n",
       "      <th>credit_amount</th>\n",
       "      <td>1000.0</td>\n",
       "      <td>3271.258</td>\n",
       "      <td>2822.736876</td>\n",
       "      <td>250.0</td>\n",
       "      <td>1365.5</td>\n",
       "      <td>2319.5</td>\n",
       "      <td>3972.25</td>\n",
       "      <td>18424.0</td>\n",
       "    </tr>\n",
       "    <tr>\n",
       "      <th>installment_rate</th>\n",
       "      <td>1000.0</td>\n",
       "      <td>2.973</td>\n",
       "      <td>1.118715</td>\n",
       "      <td>1.0</td>\n",
       "      <td>2.0</td>\n",
       "      <td>3.0</td>\n",
       "      <td>4.00</td>\n",
       "      <td>4.0</td>\n",
       "    </tr>\n",
       "    <tr>\n",
       "      <th>present_residence</th>\n",
       "      <td>1000.0</td>\n",
       "      <td>2.845</td>\n",
       "      <td>1.103718</td>\n",
       "      <td>1.0</td>\n",
       "      <td>2.0</td>\n",
       "      <td>3.0</td>\n",
       "      <td>4.00</td>\n",
       "      <td>4.0</td>\n",
       "    </tr>\n",
       "    <tr>\n",
       "      <th>age</th>\n",
       "      <td>1000.0</td>\n",
       "      <td>35.546</td>\n",
       "      <td>11.375469</td>\n",
       "      <td>19.0</td>\n",
       "      <td>27.0</td>\n",
       "      <td>33.0</td>\n",
       "      <td>42.00</td>\n",
       "      <td>75.0</td>\n",
       "    </tr>\n",
       "    <tr>\n",
       "      <th>existing_credits</th>\n",
       "      <td>1000.0</td>\n",
       "      <td>1.407</td>\n",
       "      <td>0.577654</td>\n",
       "      <td>1.0</td>\n",
       "      <td>1.0</td>\n",
       "      <td>1.0</td>\n",
       "      <td>2.00</td>\n",
       "      <td>4.0</td>\n",
       "    </tr>\n",
       "    <tr>\n",
       "      <th>dependents</th>\n",
       "      <td>1000.0</td>\n",
       "      <td>1.155</td>\n",
       "      <td>0.362086</td>\n",
       "      <td>1.0</td>\n",
       "      <td>1.0</td>\n",
       "      <td>1.0</td>\n",
       "      <td>1.00</td>\n",
       "      <td>2.0</td>\n",
       "    </tr>\n",
       "    <tr>\n",
       "      <th>customer_type</th>\n",
       "      <td>1000.0</td>\n",
       "      <td>1.300</td>\n",
       "      <td>0.458487</td>\n",
       "      <td>1.0</td>\n",
       "      <td>1.0</td>\n",
       "      <td>1.0</td>\n",
       "      <td>2.00</td>\n",
       "      <td>2.0</td>\n",
       "    </tr>\n",
       "  </tbody>\n",
       "</table>\n",
       "</div>"
      ],
      "text/plain": [
       "                    count      mean          std    min     25%     50%  \\\n",
       "duration           1000.0    20.903    12.058814    4.0    12.0    18.0   \n",
       "credit_amount      1000.0  3271.258  2822.736876  250.0  1365.5  2319.5   \n",
       "installment_rate   1000.0     2.973     1.118715    1.0     2.0     3.0   \n",
       "present_residence  1000.0     2.845     1.103718    1.0     2.0     3.0   \n",
       "age                1000.0    35.546    11.375469   19.0    27.0    33.0   \n",
       "existing_credits   1000.0     1.407     0.577654    1.0     1.0     1.0   \n",
       "dependents         1000.0     1.155     0.362086    1.0     1.0     1.0   \n",
       "customer_type      1000.0     1.300     0.458487    1.0     1.0     1.0   \n",
       "\n",
       "                       75%      max  \n",
       "duration             24.00     72.0  \n",
       "credit_amount      3972.25  18424.0  \n",
       "installment_rate      4.00      4.0  \n",
       "present_residence     4.00      4.0  \n",
       "age                  42.00     75.0  \n",
       "existing_credits      2.00      4.0  \n",
       "dependents            1.00      2.0  \n",
       "customer_type         2.00      2.0  "
      ]
     },
     "execution_count": 41,
     "metadata": {},
     "output_type": "execute_result"
    }
   ],
   "source": [
    "DF.describe().T"
   ]
  },
  {
   "cell_type": "markdown",
   "metadata": {},
   "source": [
    "Observations :\n",
    "\n",
    "Duration :\n",
    "- Customers Average duration is around 20 months\n",
    "- But mean > median (20>18) which states that data is skewed to right, Most of the data are bunched towards left (less duration)\n",
    "- Since data is skewed,std will not give much information\n",
    "- min duration month starts from 4 and max is 72\n",
    "- Half of the customers duration month is around 18 months\n",
    "- Major difference between max and q3 which needs to be investigated\n",
    "\n",
    "Credit_amount :\n",
    "- Customers average credit amount is around 3271 which very large than median (2319)\n",
    "- Right skewed data\n",
    "- Mean is larger due to outliers needs to investiage on that (Max val is 18424)\n",
    "\n",
    "Age :\n",
    "- Average customer age is 35\n",
    "- Due to some ouliers mean is greater than median\n",
    "- 75 yrs age customers are present, we will investiage on that\n",
    "- Most of the customers are belongs to 30 - 35 years old\n",
    "\n",
    "\n",
    "- If we dig deeper, we might find installment_rate, present_residence,existing_credits,dependents which are numerical may actually be categorical."
   ]
  },
  {
   "cell_type": "markdown",
   "metadata": {},
   "source": [
    "# Univariate Anlaysis"
   ]
  },
  {
   "cell_type": "markdown",
   "metadata": {},
   "source": [
    "# Target Feature : Customer Type\n",
    "\n",
    "- Key : 1 = Good customer 2 = Bad customer"
   ]
  },
  {
   "cell_type": "code",
   "execution_count": 27,
   "metadata": {},
   "outputs": [
    {
     "data": {
      "text/plain": [
       "1    700\n",
       "2    300\n",
       "Name: customer_type, dtype: int64"
      ]
     },
     "execution_count": 27,
     "metadata": {},
     "output_type": "execute_result"
    },
    {
     "data": {
      "image/png": "[encoded data removed]",
      "text/plain": [
       "<Figure size 1440x72 with 1 Axes>"
      ]
     },
     "metadata": {
      "needs_background": "light"
     },
     "output_type": "display_data"
    }
   ],
   "source": [
    "# How many customers classified as Good and Bad\n",
    "fig = plt.figure(figsize = (20,1))\n",
    "sns.countplot(y = 'customer_type', data=DF)\n",
    "DF.customer_type.value_counts()"
   ]
  },
  {
   "cell_type": "markdown",
   "metadata": {},
   "source": [
    "Observations:\n",
    "- Good customers are more in number 700\n",
    "- 30% of customers are classified as bad\n",
    "- Imbalanced dataset"
   ]
  },
  {
   "cell_type": "markdown",
   "metadata": {},
   "source": [
    "# Numerical Features"
   ]
  },
  {
   "cell_type": "code",
   "execution_count": 53,
   "metadata": {},
   "outputs": [
    {
     "data": {
      "text/plain": [
       "<matplotlib.axes._subplots.AxesSubplot at 0x26295952ec8>"
      ]
     },
     "execution_count": 53,
     "metadata": {},
     "output_type": "execute_result"
    },
    {
     "data": {
      "image/png": "[encoded data removed]",
      "text/plain": [
       "<Figure size 432x288 with 1 Axes>"
      ]
     },
     "metadata": {
      "needs_background": "light"
     },
     "output_type": "display_data"
    }
   ],
   "source": [
    "# Feature : Duration\n",
    "sns.boxplot(y = DF['duration'])"
   ]
  },
  {
   "cell_type": "markdown",
   "metadata": {},
   "source": [
    "- Duration data is right skewed with outliers\n",
    "- Most values are centred around 12 - 24 months\n",
    "- Many ouliers are after 42 months, we need to handle it"
   ]
  },
  {
   "cell_type": "code",
   "execution_count": 89,
   "metadata": {},
   "outputs": [
    {
     "data": {
      "text/plain": [
       "<matplotlib.axes._subplots.AxesSubplot at 0x262993d49c8>"
      ]
     },
     "execution_count": 89,
     "metadata": {},
     "output_type": "execute_result"
    },
    {
     "data": {
      "image/png": "[encoded data removed]",
      "text/plain": [
       "<Figure size 1080x360 with 2 Axes>"
      ]
     },
     "metadata": {
      "needs_background": "light"
     },
     "output_type": "display_data"
    }
   ],
   "source": [
    "# Feature : credit_amount\n",
    "f,axes = plt.subplots(1,2,figsize=(15,5))\n",
    "\n",
    "sns.distplot(DF.credit_amount,ax = axes[0])\n",
    "sns.boxplot(y = DF.credit_amount, ax = axes[1])"
   ]
  },
  {
   "cell_type": "markdown",
   "metadata": {},
   "source": [
    "- Credit amount data is right skewed with many outliers after 7500 euros\n",
    "- most of the data are bunched left between 2000 and 3500"
   ]
  },
  {
   "cell_type": "code",
   "execution_count": 184,
   "metadata": {},
   "outputs": [
    {
     "data": {
      "text/plain": [
       "dtype('int64')"
      ]
     },
     "execution_count": 184,
     "metadata": {},
     "output_type": "execute_result"
    },
    {
     "data": {
      "image/png": "[encoded data removed]",
      "text/plain": [
       "<Figure size 432x288 with 1 Axes>"
      ]
     },
     "metadata": {
      "needs_background": "light"
     },
     "output_type": "display_data"
    }
   ],
   "source": [
    "# Feature : installment_rate\n",
    "DF['installment_rate'] = DF['installment_rate'].astype('int64')\n",
    "sns.distplot(DF.installment_rate,kde=False)"
   ]
  },
  {
   "cell_type": "markdown",
   "metadata": {},
   "source": [
    "- As we expected, Installment rate falls into categorical type.\n",
    "- Most of the customers falls into Installment rate 4% "
   ]
  },
  {
   "cell_type": "code",
   "execution_count": 189,
   "metadata": {},
   "outputs": [
    {
     "data": {
      "text/plain": [
       "<matplotlib.axes._subplots.AxesSubplot at 0x262a1361c48>"
      ]
     },
     "execution_count": 189,
     "metadata": {},
     "output_type": "execute_result"
    },
    {
     "data": {
      "image/png": "[encoded data removed]",
      "text/plain": [
       "<Figure size 432x288 with 1 Axes>"
      ]
     },
     "metadata": {
      "needs_background": "light"
     },
     "output_type": "display_data"
    }
   ],
   "source": [
    "# Feature: present_residence in years\n",
    "# 1<…<=2 years,2<…<=3 years,3:>4years\n",
    "DF['present_residence'] = DF['present_residence'].astype('int64')\n",
    "sns.distplot(DF.present_residence,kde=False)"
   ]
  },
  {
   "cell_type": "markdown",
   "metadata": {},
   "source": [
    "- Customers who are staying in the same residence more than 4 years are high in numbers\n",
    "- This feature also falls in categorical"
   ]
  },
  {
   "cell_type": "code",
   "execution_count": 94,
   "metadata": {},
   "outputs": [
    {
     "data": {
      "text/plain": [
       "<matplotlib.axes._subplots.AxesSubplot at 0x2629cbc5908>"
      ]
     },
     "execution_count": 94,
     "metadata": {},
     "output_type": "execute_result"
    },
    {
     "data": {
      "image/png": "[encoded data removed]",
      "text/plain": [
       "<Figure size 1080x360 with 2 Axes>"
      ]
     },
     "metadata": {
      "needs_background": "light"
     },
     "output_type": "display_data"
    }
   ],
   "source": [
    "# Feature : Age\n",
    "fig,axes = plt.subplots(1,2,figsize=(15,5))\n",
    "sns.distplot(DF.age,ax = axes[0])\n",
    "sns.boxplot(y = DF.age)"
   ]
  },
  {
   "cell_type": "markdown",
   "metadata": {},
   "source": [
    "- Age is slightly skewed to right\n",
    "- most of the customers falls in the range of 27 to 42 years\n",
    "- Outliers after 65 years"
   ]
  },
  {
   "cell_type": "code",
   "execution_count": 195,
   "metadata": {},
   "outputs": [
    {
     "data": {
      "text/plain": [
       "1    633\n",
       "2    333\n",
       "3     28\n",
       "4      6\n",
       "Name: existing_credits, dtype: int64"
      ]
     },
     "execution_count": 195,
     "metadata": {},
     "output_type": "execute_result"
    },
    {
     "data": {
      "image/png": "[encoded data removed]",
      "text/plain": [
       "<Figure size 432x288 with 1 Axes>"
      ]
     },
     "metadata": {
      "needs_background": "light"
     },
     "output_type": "display_data"
    }
   ],
   "source": [
    "# Feature : existing_credits ( Already existing credits at this bank)\n",
    "DF['existing_credits'] = DF['existing_credits'].astype('int64')\n",
    "sns.distplot(DF.existing_credits, kde=False)\n",
    "DF.existing_credits.value_counts()"
   ]
  },
  {
   "cell_type": "markdown",
   "metadata": {},
   "source": [
    "- This numerical feature can be considered as categorical\n",
    "- Most of the customers having only one credit at this bank\n",
    "- Some customers are having 2 credits also\n",
    "- very minimal customers are having more than 3 credits, We will check how they got more than 3 credits at same bank in which criteria"
   ]
  },
  {
   "cell_type": "code",
   "execution_count": 107,
   "metadata": {},
   "outputs": [
    {
     "data": {
      "text/plain": [
       "1    845\n",
       "2    155\n",
       "Name: dependents, dtype: int64"
      ]
     },
     "execution_count": 107,
     "metadata": {},
     "output_type": "execute_result"
    },
    {
     "data": {
      "image/png": "[encoded data removed]",
      "text/plain": [
       "<Figure size 432x288 with 1 Axes>"
      ]
     },
     "metadata": {
      "needs_background": "light"
     },
     "output_type": "display_data"
    }
   ],
   "source": [
    "# Features : Dependents\n",
    "sns.distplot(DF.dependents, kde= False)\n",
    "DF.dependents.value_counts()"
   ]
  },
  {
   "cell_type": "markdown",
   "metadata": {},
   "source": [
    "- Needs to be considered as categorical\n",
    "- Customers having 1 dependent are very high"
   ]
  },
  {
   "cell_type": "markdown",
   "metadata": {},
   "source": [
    "# Categorical Features"
   ]
  },
  {
   "cell_type": "code",
   "execution_count": 140,
   "metadata": {},
   "outputs": [
    {
     "data": {
      "text/plain": [
       "A14    394\n",
       "A11    274\n",
       "A12    269\n",
       "A13     63\n",
       "Name: checking_account_status, dtype: int64"
      ]
     },
     "execution_count": 140,
     "metadata": {},
     "output_type": "execute_result"
    },
    {
     "data": {
      "image/png": "[encoded data removed]",
      "text/plain": [
       "<Figure size 432x288 with 1 Axes>"
      ]
     },
     "metadata": {
      "needs_background": "light"
     },
     "output_type": "display_data"
    }
   ],
   "source": [
    "# Feature : checking_account_status\n",
    "# A11: < 0 DM\n",
    "# A12: 0 <= x < 200 DM\n",
    "# A13 : >= 200 DM / salary assignments for at least 1 year\n",
    "# A14 : no checking account\n",
    "\n",
    "sns.countplot(DF.checking_account_status)\n",
    "DF.checking_account_status.value_counts()"
   ]
  },
  {
   "cell_type": "markdown",
   "metadata": {},
   "source": [
    "- Customers with no checking account is high in number\n",
    "- We can label the values with 0 1 2 3 to understand easily"
   ]
  },
  {
   "cell_type": "code",
   "execution_count": 112,
   "metadata": {},
   "outputs": [
    {
     "data": {
      "text/plain": [
       "A32    530\n",
       "A34    293\n",
       "A33     88\n",
       "A31     49\n",
       "A30     40\n",
       "Name: credit_history, dtype: int64"
      ]
     },
     "execution_count": 112,
     "metadata": {},
     "output_type": "execute_result"
    },
    {
     "data": {
      "image/png": "[encoded data removed]",
      "text/plain": [
       "<Figure size 432x288 with 1 Axes>"
      ]
     },
     "metadata": {
      "needs_background": "light"
     },
     "output_type": "display_data"
    }
   ],
   "source": [
    "# Feature : credit_history\n",
    "# A30 : no credits taken/ all credits paid back duly\n",
    "# A31 : all credits at this bank paid back duly\n",
    "# A32 : existing credits paid back duly till now\n",
    "# A33 : delay in paying off in the past\n",
    "# A34 : critical account/ other credits existing (not at this bank)\n",
    "sns.countplot(DF.credit_history)\n",
    "DF.credit_history.value_counts()"
   ]
  },
  {
   "cell_type": "markdown",
   "metadata": {},
   "source": [
    "- Customer who are paying the credits duly till now are high in number (Customers classified as good are 70% high)\n",
    "- Customers having credit in banks and critical accounts are second highest (around 300)\n",
    "- Credit history is the most contributing feature as of now\n",
    "- We can re label this feature values"
   ]
  },
  {
   "cell_type": "code",
   "execution_count": 115,
   "metadata": {},
   "outputs": [
    {
     "data": {
      "text/plain": [
       "A43     280\n",
       "A40     234\n",
       "A42     181\n",
       "A41     103\n",
       "A49      97\n",
       "A46      50\n",
       "A45      22\n",
       "A410     12\n",
       "A44      12\n",
       "A48       9\n",
       "Name: purpose, dtype: int64"
      ]
     },
     "execution_count": 115,
     "metadata": {},
     "output_type": "execute_result"
    },
    {
     "data": {
      "image/png": "[encoded data removed]",
      "text/plain": [
       "<Figure size 432x288 with 1 Axes>"
      ]
     },
     "metadata": {
      "needs_background": "light"
     },
     "output_type": "display_data"
    }
   ],
   "source": [
    "# Feature : purpose\n",
    "# A40 : car (new)\n",
    "# A41 : car (used)\n",
    "# A42 : furniture/equipment\n",
    "# A43 : radio/television\n",
    "# A44 : domestic appliances\n",
    "# A45 : repairs\n",
    "# A46 : education\n",
    "# A47 : (vacation - does not exist?)\n",
    "# A48 : retraining\n",
    "# A49 : business\n",
    "# A410 : others\n",
    "sns.countplot(DF.purpose)\n",
    "DF.purpose.value_counts()"
   ]
  },
  {
   "cell_type": "markdown",
   "metadata": {},
   "source": [
    "- Credits for radio/television car and furnitures acredits are high in number\n",
    "- we need to relabel this feature"
   ]
  },
  {
   "cell_type": "code",
   "execution_count": 119,
   "metadata": {},
   "outputs": [
    {
     "data": {
      "text/plain": [
       "A61    603\n",
       "A65    183\n",
       "A62    103\n",
       "A63     63\n",
       "A64     48\n",
       "Name: savings, dtype: int64"
      ]
     },
     "execution_count": 119,
     "metadata": {},
     "output_type": "execute_result"
    },
    {
     "data": {
      "image/png": "[encoded data removed]",
      "text/plain": [
       "<Figure size 432x288 with 1 Axes>"
      ]
     },
     "metadata": {
      "needs_background": "light"
     },
     "output_type": "display_data"
    }
   ],
   "source": [
    "# Feature : Savings (Balane in savings account)\n",
    "# A61 : < 100 DM, \n",
    "# A62 : 100 <= x < 500 DM\n",
    "# A63 : 500 <= x < 1000 DM\n",
    "# A64 : >= 1000 DM\n",
    "# A65 : unknown/ no savings account\n",
    "\n",
    "sns.countplot(DF.savings)\n",
    "DF.savings.value_counts()"
   ]
  },
  {
   "cell_type": "markdown",
   "metadata": {},
   "source": [
    "- Most of the customers having < 100 DM in savings account\n",
    "- Some customers are not having savings account"
   ]
  },
  {
   "cell_type": "code",
   "execution_count": 121,
   "metadata": {},
   "outputs": [
    {
     "data": {
      "text/plain": [
       "A73    339\n",
       "A75    253\n",
       "A74    174\n",
       "A72    172\n",
       "A71     62\n",
       "Name: present_employment, dtype: int64"
      ]
     },
     "execution_count": 121,
     "metadata": {},
     "output_type": "execute_result"
    },
    {
     "data": {
      "image/png": "[encoded data removed]",
      "text/plain": [
       "<Figure size 432x288 with 1 Axes>"
      ]
     },
     "metadata": {
      "needs_background": "light"
     },
     "output_type": "display_data"
    }
   ],
   "source": [
    "# Feature : Present Employment\n",
    "# A71 : unemployed\n",
    "# A72 : < 1 year\n",
    "# A73 : 1 <= x < 4 years\n",
    "# A74 : 4 <= x < 7 years\n",
    "# A75 : .. >= 7 years\n",
    "sns.countplot(DF.present_employment)\n",
    "DF.present_employment.value_counts()"
   ]
  },
  {
   "cell_type": "markdown",
   "metadata": {},
   "source": [
    "- Customers having min 4 years of employment experience has high in numbers\n",
    "- More than 7 years customers also moderately high "
   ]
  },
  {
   "cell_type": "code",
   "execution_count": 123,
   "metadata": {},
   "outputs": [
    {
     "data": {
      "text/plain": [
       "A93    548\n",
       "A92    310\n",
       "A94     92\n",
       "A91     50\n",
       "Name: personal, dtype: int64"
      ]
     },
     "execution_count": 123,
     "metadata": {},
     "output_type": "execute_result"
    },
    {
     "data": {
      "image/png": "[encoded data removed]",
      "text/plain": [
       "<Figure size 432x288 with 1 Axes>"
      ]
     },
     "metadata": {
      "needs_background": "light"
     },
     "output_type": "display_data"
    }
   ],
   "source": [
    "# Feature : Personal\n",
    "# A91 : male : divorced/separated\n",
    "# A92 : female : divorced/separated/married\n",
    "# A93 : male : single\n",
    "# A94 : male : married/widowed\n",
    "# A95 : female : single\n",
    "\n",
    "sns.countplot(DF.personal)\n",
    "DF.personal.value_counts()"
   ]
  },
  {
   "cell_type": "markdown",
   "metadata": {},
   "source": [
    "- Most of the customers are male who are not married\n",
    "- Divorced female customers are second in numbers"
   ]
  },
  {
   "cell_type": "code",
   "execution_count": 126,
   "metadata": {},
   "outputs": [
    {
     "data": {
      "text/plain": [
       "A101    907\n",
       "A103     52\n",
       "A102     41\n",
       "Name: other_debtors, dtype: int64"
      ]
     },
     "execution_count": 126,
     "metadata": {},
     "output_type": "execute_result"
    },
    {
     "data": {
      "image/png": "[encoded data removed]",
      "text/plain": [
       "<Figure size 432x288 with 1 Axes>"
      ]
     },
     "metadata": {
      "needs_background": "light"
     },
     "output_type": "display_data"
    }
   ],
   "source": [
    "# Feature : Other Debtors\n",
    "# A101 : none\n",
    "# A102 : co-applicant\n",
    "# A103 : guarantor\n",
    "\n",
    "sns.countplot(DF.other_debtors)\n",
    "DF.other_debtors.value_counts()"
   ]
  },
  {
   "cell_type": "markdown",
   "metadata": {},
   "source": [
    "- Customers who dont have co-applicant and guarantor are more"
   ]
  },
  {
   "cell_type": "code",
   "execution_count": 128,
   "metadata": {},
   "outputs": [
    {
     "data": {
      "text/plain": [
       "A123    332\n",
       "A121    282\n",
       "A122    232\n",
       "A124    154\n",
       "Name: property, dtype: int64"
      ]
     },
     "execution_count": 128,
     "metadata": {},
     "output_type": "execute_result"
    },
    {
     "data": {
      "image/png": "[encoded data removed]",
      "text/plain": [
       "<Figure size 432x288 with 1 Axes>"
      ]
     },
     "metadata": {
      "needs_background": "light"
     },
     "output_type": "display_data"
    }
   ],
   "source": [
    "# Feature : Property\n",
    "# A121 : real estate\n",
    "# A122 : if not A121 : building society savings agreement/ life insurance\n",
    "# A123 : if not A121/A122 : car or other, not in attribute 6\n",
    "# A124 : unknown / no property\n",
    "\n",
    "sns.countplot(DF.property)\n",
    "DF.property.value_counts()"
   ]
  },
  {
   "cell_type": "markdown",
   "metadata": {},
   "source": [
    "- Customers tends to buy car, furniture, televisions are more"
   ]
  },
  {
   "cell_type": "code",
   "execution_count": 130,
   "metadata": {},
   "outputs": [
    {
     "data": {
      "text/plain": [
       "A143    814\n",
       "A141    139\n",
       "A142     47\n",
       "Name: other_installment_plans, dtype: int64"
      ]
     },
     "execution_count": 130,
     "metadata": {},
     "output_type": "execute_result"
    },
    {
     "data": {
      "image/png": "[encoded data removed]",
      "text/plain": [
       "<Figure size 432x288 with 1 Axes>"
      ]
     },
     "metadata": {
      "needs_background": "light"
     },
     "output_type": "display_data"
    }
   ],
   "source": [
    "# Feature : Other Installments plans\n",
    "# A141 : bank\n",
    "# A142 : stores\n",
    "# A143 : none\n",
    "\n",
    "sns.countplot(DF.other_installment_plans)\n",
    "DF.other_installment_plans.value_counts()"
   ]
  },
  {
   "cell_type": "markdown",
   "metadata": {},
   "source": [
    "- Most of the customers dont have other installments "
   ]
  },
  {
   "cell_type": "code",
   "execution_count": 132,
   "metadata": {},
   "outputs": [
    {
     "data": {
      "text/plain": [
       "A152    713\n",
       "A151    179\n",
       "A153    108\n",
       "Name: housing, dtype: int64"
      ]
     },
     "execution_count": 132,
     "metadata": {},
     "output_type": "execute_result"
    },
    {
     "data": {
      "image/png": "[encoded data removed]",
      "text/plain": [
       "<Figure size 432x288 with 1 Axes>"
      ]
     },
     "metadata": {
      "needs_background": "light"
     },
     "output_type": "display_data"
    }
   ],
   "source": [
    "# Features : Housing\n",
    "# A151 : rent\n",
    "# A152 : own\n",
    "# A153 : for free\n",
    "\n",
    "sns.countplot(DF.housing)\n",
    "DF.housing.value_counts()"
   ]
  },
  {
   "cell_type": "markdown",
   "metadata": {},
   "source": [
    "- Most of the customers are owning the house\n",
    "- It states that real estate/land purchase credits are very minimal in this dataset\n",
    "- May be the bank gives the customers who owns propert if they quote more credit"
   ]
  },
  {
   "cell_type": "code",
   "execution_count": 134,
   "metadata": {},
   "outputs": [
    {
     "data": {
      "text/plain": [
       "A173    630\n",
       "A172    200\n",
       "A174    148\n",
       "A171     22\n",
       "Name: job, dtype: int64"
      ]
     },
     "execution_count": 134,
     "metadata": {},
     "output_type": "execute_result"
    },
    {
     "data": {
      "image/png": "[encoded data removed]",
      "text/plain": [
       "<Figure size 432x288 with 1 Axes>"
      ]
     },
     "metadata": {
      "needs_background": "light"
     },
     "output_type": "display_data"
    }
   ],
   "source": [
    "# Feature : Job\n",
    "# A171 : unemployed/ unskilled - non-resident\n",
    "# A172 : unskilled - resident\n",
    "# A173 : skilled employee / official\n",
    "# A174 : management/ self-employed/highly qualified employee/ officer\n",
    "\n",
    "sns.countplot(DF.job)\n",
    "DF.job.value_counts()"
   ]
  },
  {
   "cell_type": "markdown",
   "metadata": {},
   "source": [
    "- We can classify the skilled employment customers who are high numbers\n",
    "    - May be they are resident\n",
    "    - They are not in management or highly qulified officers whose salaries are high"
   ]
  },
  {
   "cell_type": "code",
   "execution_count": 136,
   "metadata": {},
   "outputs": [
    {
     "data": {
      "text/plain": [
       "A191    596\n",
       "A192    404\n",
       "Name: telephone, dtype: int64"
      ]
     },
     "execution_count": 136,
     "metadata": {},
     "output_type": "execute_result"
    },
    {
     "data": {
      "image/png": "[encoded data removed]",
      "text/plain": [
       "<Figure size 432x288 with 1 Axes>"
      ]
     },
     "metadata": {
      "needs_background": "light"
     },
     "output_type": "display_data"
    }
   ],
   "source": [
    "# Feature : Telephone\n",
    "# A191 : none\n",
    "# A192 : yes, registered under the customers name\n",
    "\n",
    "sns.countplot(DF.telephone)\n",
    "DF.telephone.value_counts()"
   ]
  },
  {
   "cell_type": "markdown",
   "metadata": {},
   "source": [
    "- Most of the customers dont have telephone"
   ]
  },
  {
   "cell_type": "code",
   "execution_count": 138,
   "metadata": {},
   "outputs": [
    {
     "data": {
      "text/plain": [
       "<matplotlib.axes._subplots.AxesSubplot at 0x2629952a108>"
      ]
     },
     "execution_count": 138,
     "metadata": {},
     "output_type": "execute_result"
    },
    {
     "data": {
      "image/png": "[encoded data removed]",
      "text/plain": [
       "<Figure size 432x288 with 1 Axes>"
      ]
     },
     "metadata": {
      "needs_background": "light"
     },
     "output_type": "display_data"
    }
   ],
   "source": [
    "# Feature : Foreign worker\n",
    "# A201 : yes\n",
    "# A202 : no\n",
    "\n",
    "sns.countplot(DF.foreign_worker)"
   ]
  },
  {
   "cell_type": "markdown",
   "metadata": {},
   "source": [
    "- Foreign working customers are more in numbers"
   ]
  },
  {
   "cell_type": "markdown",
   "metadata": {},
   "source": [
    "# Univariate conclusion\n",
    "\n",
    "- Most of the male customers who are single, applied credit than the female customers in th purpose of purchasing Radio/TV or new cars.\n",
    "- 60% of the customers are having good credit history who pays their credits duly\n",
    "- Most of the customers are foreign workers as a skilled employee having around 4 years of employment experience\n",
    "- Customers having own house and staying more than 4 years on the same location are high\n",
    "- More than 70% of customers dont have other installment plans except the existing credits (Only one) at this bank \n",
    "- Most credit amount requested by the customers are concentrated around 2000 - 3500 with the duration between 12 -24 months majorly."
   ]
  },
  {
   "cell_type": "markdown",
   "metadata": {},
   "source": [
    "# Bi - Variate Analysis"
   ]
  },
  {
   "cell_type": "code",
   "execution_count": 220,
   "metadata": {},
   "outputs": [
    {
     "data": {
      "text/plain": [
       "<matplotlib.axes._subplots.AxesSubplot at 0x262a30f5308>"
      ]
     },
     "execution_count": 220,
     "metadata": {},
     "output_type": "execute_result"
    },
    {
     "data": {
      "image/png": "[encoded data removed]",
      "text/plain": [
       "<Figure size 432x288 with 1 Axes>"
      ]
     },
     "metadata": {
      "needs_background": "light"
     },
     "output_type": "display_data"
    }
   ],
   "source": [
    "# Continuos and Continous\n",
    "# duration and Customer type\n",
    "\n",
    "sns.boxplot(x = 'customer_type', y ='duration', data =DF)"
   ]
  },
  {
   "cell_type": "code",
   "execution_count": null,
   "metadata": {},
   "outputs": [],
   "source": [
    "# Customer type 1 : Good customers\n",
    "- Customer type 1 minimum duration starts around 4 months and customer type 2 starts around 8\n",
    "- Q1 (lowest 25%) of customers falls b/w 4 - 12 onths in customer type1 and 8 - 12 months for custmer type 2\n",
    "- Median value is high for bad customers around 24 months and 18 for good customers\n",
    "- Good custmers data are more consistent when compared to bad\n",
    "- Maximum value is very for bad customers\n",
    "- Some outliers are present in good customers\n",
    "\n",
    "Note : More variability, inconsistency and very high duration months may be the reason to classify a customer as bad"
   ]
  },
  {
   "cell_type": "code",
   "execution_count": 224,
   "metadata": {},
   "outputs": [
    {
     "data": {
      "text/plain": [
       "<matplotlib.axes._subplots.AxesSubplot at 0x2629f46c6c8>"
      ]
     },
     "execution_count": 224,
     "metadata": {},
     "output_type": "execute_result"
    },
    {
     "data": {
      "image/png": "[encoded data removed]",
      "text/plain": [
       "<Figure size 432x288 with 1 Axes>"
      ]
     },
     "metadata": {
      "needs_background": "light"
     },
     "output_type": "display_data"
    }
   ],
   "source": [
    "# Credit Amount\n",
    "sns.boxplot(x = DF['customer_type'], y = DF['credit_amount'], data = DF)"
   ]
  },
  {
   "cell_type": "markdown",
   "metadata": {},
   "source": [
    "- Both good and bad customers are having so many outliers\n",
    "- Good customers credit amount are more consistent around 2000 - 2700 than bad customer who having high variability\n",
    "- This states that bad customers are quoted more credit amount"
   ]
  },
  {
   "cell_type": "code",
   "execution_count": 231,
   "metadata": {},
   "outputs": [
    {
     "data": {
      "text/plain": [
       "<matplotlib.axes._subplots.AxesSubplot at 0x2629f8acf88>"
      ]
     },
     "execution_count": 231,
     "metadata": {},
     "output_type": "execute_result"
    },
    {
     "data": {
      "image/png": "[encoded data removed]",
      "text/plain": [
       "<Figure size 432x288 with 1 Axes>"
      ]
     },
     "metadata": {
      "needs_background": "light"
     },
     "output_type": "display_data"
    }
   ],
   "source": [
    "# Age\n",
    "sns.boxplot(x = DF['customer_type'], y = DF['age'], data =DF)"
   ]
  },
  {
   "cell_type": "markdown",
   "metadata": {},
   "source": [
    "- Both customers having outliers in age\n",
    "- Both customers follows same minimum age creiteria ( This may be due to minimum age eligibility to apply credit)\n",
    "- 50% of bad risk customers are aged below 32 years\n",
    "    - young age customers may get low income\n",
    "    - May be credit amount and duration are high\n",
    "- 50% of good risk customers are above 35 years.\n",
    "    - Middle age customers who may get good income since the employment experience increases\n",
    "- But how about the customers above 65 years are classified as good ? we need to investiage on employment , property and more."
   ]
  },
  {
   "cell_type": "code",
   "execution_count": 327,
   "metadata": {},
   "outputs": [
    {
     "data": {
      "text/plain": [
       "<matplotlib.axes._subplots.AxesSubplot at 0x262ac314408>"
      ]
     },
     "execution_count": 327,
     "metadata": {},
     "output_type": "execute_result"
    },
    {
     "data": {
      "image/png": "[encoded data removed]",
      "text/plain": [
       "<Figure size 1440x1440 with 12 Axes>"
      ]
     },
     "metadata": {
      "needs_background": "light"
     },
     "output_type": "display_data"
    }
   ],
   "source": [
    "fig,axes = plt.subplots(4,3,figsize=(20,20))\n",
    "\n",
    "###########################################################################################################################\n",
    "Customer_AccountStatus = pd.crosstab(index = DF.checking_account_status,columns=DF.customer_type)\n",
    "stacked = Customer_AccountStatus.stack().reset_index().rename(columns={0:'value'})\n",
    "sns.barplot(x=stacked.checking_account_status, y=stacked.value, hue=stacked.customer_type, ax = axes[0,0])\n",
    "\n",
    "############################################################################################################################\n",
    "customer_credithistory = pd.crosstab(index = DF.credit_history, columns=DF.customer_type)\n",
    "stacked = customer_credithistory.stack().reset_index().rename(columns = {0:'value'})\n",
    "sns.barplot(x=stacked.credit_history,y=stacked.value,hue=stacked.customer_type,ax = axes[0,1])\n",
    "\n",
    "############################################################################################################################\n",
    "customer_purpose = pd.crosstab(index = DF.purpose, columns=DF.customer_type)\n",
    "stacked = customer_purpose.stack().reset_index().rename(columns = {0:'value'})\n",
    "sns.barplot(x=stacked.purpose,y=stacked.value,hue=stacked.customer_type,ax = axes[0,2])\n",
    "\n",
    "############################################################################################################################\n",
    "customer_savings = pd.crosstab(index = DF.savings, columns=DF.customer_type)\n",
    "stacked = customer_savings.stack().reset_index().rename(columns = {0:'value'})\n",
    "sns.barplot(x=stacked.savings,y=stacked.value,hue=stacked.customer_type, ax = axes[1,0])\n",
    "\n",
    "############################################################################################################################\n",
    "customer_presentemployment = pd.crosstab(index = DF.present_employment, columns=DF.customer_type)\n",
    "stacked = customer_presentemployment.stack().reset_index().rename(columns = {0:'value'})\n",
    "sns.barplot(x=stacked.present_employment,y=stacked.value,hue=stacked.customer_type,ax = axes[1,1])\n",
    "\n",
    "############################################################################################################################\n",
    "customer_personal = pd.crosstab(index = DF.personal, columns=DF.customer_type)\n",
    "stacked = customer_personal.stack().reset_index().rename(columns = {0:'value'})\n",
    "sns.barplot(x=stacked.personal,y=stacked.value,hue=stacked.customer_type, ax = axes[1,2])\n",
    "\n",
    "###########################################################################################################################\n",
    "customer_otherdebtors = pd.crosstab(index = DF.other_debtors, columns=DF.customer_type)\n",
    "stacked = customer_otherdebtors.stack().reset_index().rename(columns = {0:'value'})\n",
    "sns.barplot(x=stacked.other_debtors,y=stacked.value,hue=stacked.customer_type, ax = axes[2,0])\n",
    "\n",
    "###########################################################################################################################\n",
    "customer_property = pd.crosstab(index = DF.property, columns=DF.customer_type)\n",
    "stacked = customer_property.stack().reset_index().rename(columns = {0:'value'})\n",
    "sns.barplot(x=stacked.property,y=stacked.value,hue=stacked.customer_type, ax = axes[2,1])\n",
    "\n",
    "##########################################################################################################################\n",
    "customer_otherinstallmentplans = pd.crosstab(index = DF.other_installment_plans, columns=DF.customer_type)\n",
    "stacked = customer_otherinstallmentplans.stack().reset_index().rename(columns = {0:'value'})\n",
    "sns.barplot(x=stacked.other_installment_plans,y=stacked.value,hue=stacked.customer_type, ax = axes[2,2])\n",
    "\n",
    "##########################################################################################################################\n",
    "customer_housing = pd.crosstab(index = DF.housing, columns=DF.customer_type)\n",
    "stacked = customer_housing.stack().reset_index().rename(columns = {0:'value'})\n",
    "sns.barplot(x=stacked.housing,y=stacked.value,hue=stacked.customer_type, ax = axes[3,0])\n",
    "\n",
    "##########################################################################################################################\n",
    "customer_job = pd.crosstab(index = DF.job, columns=DF.customer_type)\n",
    "stacked = customer_job.stack().reset_index().rename(columns = {0:'value'})\n",
    "sns.barplot(x=stacked.job,y=stacked.value,hue=stacked.customer_type, ax = axes[3,1])\n",
    "\n",
    "#########################################################################################################################\n",
    "customer_foreignworker = pd.crosstab(index = DF.foreign_worker, columns=DF.customer_type)\n",
    "stacked = customer_foreignworker.stack().reset_index().rename(columns = {0:'value'})\n",
    "sns.barplot(x=stacked.foreign_worker,y=stacked.value,hue=stacked.customer_type, ax = axes[3,2])\n",
    "\n",
    "\n",
    "#display_side_by_side(Customer_AccountStatus, customer_credithistory,customer_savings,customer_presentemployment,customer_personal,\\\n",
    "#                     customer_purpose,customer_otherdebtors,customer_property )"
   ]
  },
  {
   "cell_type": "code",
   "execution_count": null,
   "metadata": {},
   "outputs": [],
   "source": []
  }
 ],
 "metadata": {
  "kernelspec": {
   "display_name": "Python 3",
   "language": "python",
   "name": "python3"
  },
  "language_info": {
   "codemirror_mode": {
    "name": "ipython",
    "version": 3
   },
   "file_extension": ".py",
   "mimetype": "text/x-python",
   "name": "python",
   "nbconvert_exporter": "python",
   "pygments_lexer": "ipython3",
   "version": "3.7.6"
  }
 },
 "nbformat": 4,
 "nbformat_minor": 4
}
